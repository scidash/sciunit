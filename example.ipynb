{
 "metadata": {
  "name": ""
 },
 "nbformat": 3,
 "nbformat_minor": 0,
 "worksheets": [
  {
   "cells": [
    {
     "cell_type": "code",
     "collapsed": false,
     "input": [
      "import sciunit, sciunit.capabilities, sciunit.models, sciunit.scores"
     ],
     "language": "python",
     "metadata": {},
     "outputs": [],
     "prompt_number": 1
    },
    {
     "cell_type": "code",
     "collapsed": false,
     "input": [
      "class EqualsTest(sciunit.Test):\n",
      "    \"\"\"Produces a boolean score if the model predicts \n",
      "    the same number as the observation.\"\"\"   \n",
      "    required_capabilities = (sciunit.capabilities.ProducesNumber,)\n",
      "    def generate_prediction(self, model):\n",
      "        return model.produce_number()\n",
      "    \n",
      "    score_type = sciunit.scores.BooleanScore\n",
      "    def score_prediction(self, observation, prediction):\n",
      "        return self.score_type(observation == prediction)"
     ],
     "language": "python",
     "metadata": {},
     "outputs": [],
     "prompt_number": 2
    },
    {
     "cell_type": "code",
     "collapsed": false,
     "input": [
      "equals_one_test = EqualsTest(1)\n",
      "equals_two_test = EqualsTest(2)\n",
      "print equals_one_test\n",
      "print equals_two_test"
     ],
     "language": "python",
     "metadata": {},
     "outputs": [
      {
       "output_type": "stream",
       "stream": "stdout",
       "text": [
        "EqualsTest(1)\n",
        "EqualsTest(2)\n"
       ]
      }
     ],
     "prompt_number": 3
    },
    {
     "cell_type": "code",
     "collapsed": false,
     "input": [
      "one_model = sciunit.models.ConstModel(1)\n",
      "two_model = sciunit.models.ConstModel(2)\n",
      "three_model = sciunit.models.ConstModel(3)\n",
      "print one_model\n",
      "print two_model\n",
      "print three_model"
     ],
     "language": "python",
     "metadata": {},
     "outputs": [
      {
       "output_type": "stream",
       "stream": "stdout",
       "text": [
        "ConstModel({'constant': 1})\n",
        "ConstModel({'constant': 2})\n",
        "ConstModel({'constant': 3})\n"
       ]
      }
     ],
     "prompt_number": 4
    },
    {
     "cell_type": "code",
     "collapsed": false,
     "input": [
      "one_one_score = equals_one_test.judge(one_model)\n",
      "one_two_score = equals_two_test.judge(one_model)\n",
      "print one_one_score, one_two_score\n",
      "assert one_one_score.score == True\n",
      "assert one_one_score.test is equals_one_test\n",
      "assert one_one_score.model is one_model"
     ],
     "language": "python",
     "metadata": {},
     "outputs": [
      {
       "output_type": "stream",
       "stream": "stdout",
       "text": [
        "BooleanScore(True) BooleanScore(False)\n"
       ]
      }
     ],
     "prompt_number": 5
    },
    {
     "cell_type": "code",
     "collapsed": false,
     "input": [
      "suite = sciunit.TestSuite([equals_one_test, equals_two_test])"
     ],
     "language": "python",
     "metadata": {},
     "outputs": [],
     "prompt_number": 6
    },
    {
     "cell_type": "code",
     "collapsed": false,
     "input": [
      "matrix = suite.judge([one_model, two_model, three_model])"
     ],
     "language": "python",
     "metadata": {},
     "outputs": [],
     "prompt_number": 7
    },
    {
     "cell_type": "code",
     "collapsed": false,
     "input": [
      "print matrix[equals_one_test]"
     ],
     "language": "python",
     "metadata": {},
     "outputs": [
      {
       "output_type": "stream",
       "stream": "stdout",
       "text": [
        "{ConstModel({'constant': 2}): BooleanScore(False), ConstModel({'constant': 1}): BooleanScore(True), ConstModel({'constant': 3}): BooleanScore(False)}\n"
       ]
      }
     ],
     "prompt_number": 8
    },
    {
     "cell_type": "code",
     "collapsed": false,
     "input": [
      "print matrix[one_model]"
     ],
     "language": "python",
     "metadata": {},
     "outputs": [
      {
       "output_type": "stream",
       "stream": "stdout",
       "text": [
        "{EqualsTest(1): BooleanScore(True), EqualsTest(2): BooleanScore(False)}\n"
       ]
      }
     ],
     "prompt_number": 9
    },
    {
     "cell_type": "code",
     "collapsed": false,
     "input": [
      "matrix.view()"
     ],
     "language": "python",
     "metadata": {},
     "outputs": [
      {
       "html": [
        "<table><thead><tr><th></th><th>EqualsTest(1)</th> <th>EqualsTest(2)</th></tr></thead><tbody><tr><td>ConstModel({'constant': 1})</td><td>BooleanScore(True)</td> <td>BooleanScore(False)</td></tr> <tr><td>ConstModel({'constant': 2})</td><td>BooleanScore(False)</td> <td>BooleanScore(True)</td></tr> <tr><td>ConstModel({'constant': 3})</td><td>BooleanScore(False)</td> <td>BooleanScore(False)</td></tr></tbody></table>"
       ],
       "metadata": {},
       "output_type": "pyout",
       "prompt_number": 12,
       "text": [
        "<IPython.core.display.HTML at 0x1039c0590>"
       ]
      }
     ],
     "prompt_number": 12
    },
    {
     "cell_type": "code",
     "collapsed": false,
     "input": [],
     "language": "python",
     "metadata": {},
     "outputs": [
      {
       "html": [
        "<table><thead><tr><th></th><th>EqualsTest(1)</th> <th>EqualsTest(2)</th></tr></thead><tbody><tr><td>ConstModel({'constant': 1})</td><td>BooleanScore(True)</td> <td>BooleanScore(False)</td></tr> <tr><td>ConstModel({'constant': 2})</td><td>BooleanScore(False)</td> <td>BooleanScore(True)</td></tr> <tr><td>ConstModel({'constant': 3})</td><td>BooleanScore(False)</td> <td>BooleanScore(False)</td></tr></tbody></table>"
       ],
       "metadata": {},
       "output_type": "pyout",
       "prompt_number": 11,
       "text": [
        "<IPython.core.display.HTML at 0x1039c0150>"
       ]
      }
     ],
     "prompt_number": 11
    },
    {
     "cell_type": "code",
     "collapsed": false,
     "input": [],
     "language": "python",
     "metadata": {},
     "outputs": [],
     "prompt_number": 11
    }
   ],
   "metadata": {}
  }
 ]
}